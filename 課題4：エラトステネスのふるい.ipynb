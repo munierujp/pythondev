{
 "cells": [
  {
   "cell_type": "markdown",
   "id": "c989cfd1",
   "metadata": {},
   "source": [
    "# エラトステネスのふるいを実装しよう\n",
    "## 仕様\n",
    "- range と繰り返し処理を使って、1から100までの連続する整数値を画面に表示します\n",
    "  - ただし、素数でないものは表示しないでください。以下のルールについて調べることで、素数かどうかを判定できます：\n",
    "    - 1は素数ではない\n",
    "    - 2を除いた2の倍数は素数ではない\n",
    "    - 3を除いた3の倍数は素数ではない\n",
    "    - 5を除いた5の倍数は素数ではない\n",
    "    - 7を除いた7の倍数は素数ではない\n",
    "\n",
    "上記の素数かどうかの判定手順に沿って、エラトステネスのふるいの処理を実装しましょう。\n",
    "\n",
    "## 出力結果\n",
    "\n",
    "```\n",
    "2\n",
    "3\n",
    "5\n",
    "7\n",
    "11\n",
    "13\n",
    "17\n",
    "19\n",
    "23\n",
    "29\n",
    "31\n",
    "37\n",
    "41\n",
    "43\n",
    "47\n",
    "53\n",
    "59\n",
    "61\n",
    "67\n",
    "71\n",
    "73\n",
    "79\n",
    "83\n",
    "89\n",
    "97\n",
    "```"
   ]
  },
  {
   "cell_type": "code",
   "execution_count": null,
   "id": "cebe8251",
   "metadata": {},
   "outputs": [
    {
     "name": "stdout",
     "output_type": "stream",
     "text": [
      "2\n",
      "3\n",
      "5\n",
      "7\n",
      "11\n",
      "13\n",
      "17\n",
      "19\n",
      "23\n",
      "29\n",
      "31\n",
      "37\n",
      "41\n",
      "43\n",
      "47\n",
      "53\n",
      "59\n",
      "61\n",
      "67\n",
      "71\n",
      "73\n",
      "79\n",
      "83\n",
      "89\n",
      "97\n"
     ]
    }
   ],
   "source": [
    "for i in range(1, 100):\n",
    "  if (i == 1\n",
    "    or (i != 2 and i % 2 == 0)\n",
    "    or (i != 3 and i % 3 == 0)\n",
    "    or (i != 5 and i % 5 == 0)\n",
    "    or (i != 7 and i % 7 == 0)):\n",
    "    continue\n",
    "  print(i)"
   ]
  }
 ],
 "metadata": {
  "kernelspec": {
   "display_name": ".venv",
   "language": "python",
   "name": "python3"
  },
  "language_info": {
   "codemirror_mode": {
    "name": "ipython",
    "version": 3
   },
   "file_extension": ".py",
   "mimetype": "text/x-python",
   "name": "python",
   "nbconvert_exporter": "python",
   "pygments_lexer": "ipython3",
   "version": "3.12.10"
  }
 },
 "nbformat": 4,
 "nbformat_minor": 5
}
