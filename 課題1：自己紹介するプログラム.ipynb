{
 "cells": [
  {
   "cell_type": "markdown",
   "id": "1b3aece6",
   "metadata": {},
   "source": [
    "# 自己紹介するプログラムを作成しよう\n",
    "## 仕様\n",
    "以下の3つの命令を連続して行なうプログラムを作成し、実行してください。\n",
    "\n",
    "### 命令1\n",
    "画面に「名前を入力してください：」と表示したうえで、キーボードから名前を受けつけ、変数 name に格納します。\n",
    "\n",
    "### 命令2\n",
    "画面に「現在の年齢を入力してください：」と表示したうえで、キーボードから現在の年齢を受け付けて、変数 age に格納します。\n",
    "\n",
    "### 命令3\n",
    "画面に「私の名前は ○○ です。来年で △△ 歳になります。」と表示します。来年の年齢を表示してください！\n",
    "\n",
    "## 実行結果の例:\n",
    "```\n",
    "名前を入力してください: taro kirameki\n",
    "現在の年齢を入力してください: 25\n",
    "私の名前は taro kirameki です。来年で 26 歳になります。\n",
    "```"
   ]
  },
  {
   "cell_type": "code",
   "execution_count": 2,
   "id": "bcba72a1",
   "metadata": {},
   "outputs": [
    {
     "name": "stdout",
     "output_type": "stream",
     "text": [
      "私の名前は 田中太郎 です。来年で 21 歳になります。\n"
     ]
    }
   ],
   "source": [
    "name = input(\"名前を入力してください：\")\n",
    "age = input(\"現在の年齢を入力してください：\")\n",
    "print(f\"私の名前は {name} です。来年で {int(age) + 1} 歳になります。\")"
   ]
  }
 ],
 "metadata": {
  "kernelspec": {
   "display_name": ".venv",
   "language": "python",
   "name": "python3"
  },
  "language_info": {
   "codemirror_mode": {
    "name": "ipython",
    "version": 3
   },
   "file_extension": ".py",
   "mimetype": "text/x-python",
   "name": "python",
   "nbconvert_exporter": "python",
   "pygments_lexer": "ipython3",
   "version": "3.12.10"
  }
 },
 "nbformat": 4,
 "nbformat_minor": 5
}
