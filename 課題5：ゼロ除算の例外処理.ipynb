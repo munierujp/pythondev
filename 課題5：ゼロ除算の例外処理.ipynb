{
 "cells": [
  {
   "cell_type": "markdown",
   "id": "4c35f44b",
   "metadata": {},
   "source": [
    "# ゼロ除算の例外処理を実装しよう\n",
    "## 仕様\n",
    "- ゼロで割り算した場合に出る例外に対する例外処理を実装してください\n",
    "- キーボードから数値ではない文字列が入力された場合に出る例外に対しても、例外処理を実装してください\n",
    "- 入力内容に問題がなかった場合に、正しく割り算される処理は壊さないようにしてください。（プログラム修正によって、できていたことができなくなることを デグレード と言います。デグレードのないようにしてください）\n",
    "\n",
    "## 出力結果の例\n",
    "0で割り算となる場合：\n",
    "```\n",
    "割られる数を入力してください：10\n",
    "割る数を入力してください：0\n",
    "エラー：0で割り算しないでください\n",
    "処理を終了します\n",
    "```\n",
    "\n",
    "数値ではない文字列が入力された場合：\n",
    "```\n",
    "割られる数を入力してください：abc\n",
    "エラー：数値を入力してください\n",
    "処理を終了します\n",
    "```\n",
    "\n",
    "正常に割り算が実行される場合：\n",
    "```\n",
    "割られる数を入力してください：10\n",
    "割る数を入力してください：2\n",
    "10 ÷ 2 = 5.0\n",
    "処理を終了します\n",
    "```"
   ]
  },
  {
   "cell_type": "code",
   "execution_count": null,
   "id": "455115e8",
   "metadata": {},
   "outputs": [
    {
     "name": "stdout",
     "output_type": "stream",
     "text": [
      "エラー：0で割り算しないでください\n",
      "処理を終了します\n"
     ]
    }
   ],
   "source": [
    "try:\n",
    "  a = int(input(\"割られる数を入力してください：\"))\n",
    "  b = int(input(\"割る数を入力してください：\"))\n",
    "  c = a / b\n",
    "  print(f\"{a} ÷ {b} = {c}\")\n",
    "except ValueError:\n",
    "  print(\"エラー：数値を入力してください\")\n",
    "except ZeroDivisionError:\n",
    "  print(\"エラー：0で割り算しないでください\")\n",
    "\n",
    "print(\"処理を終了します\")"
   ]
  }
 ],
 "metadata": {
  "kernelspec": {
   "display_name": ".venv",
   "language": "python",
   "name": "python3"
  },
  "language_info": {
   "codemirror_mode": {
    "name": "ipython",
    "version": 3
   },
   "file_extension": ".py",
   "mimetype": "text/x-python",
   "name": "python",
   "nbconvert_exporter": "python",
   "pygments_lexer": "ipython3",
   "version": "3.12.10"
  }
 },
 "nbformat": 4,
 "nbformat_minor": 5
}
