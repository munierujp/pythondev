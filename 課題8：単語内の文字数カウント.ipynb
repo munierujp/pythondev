{
 "cells": [
  {
   "cell_type": "markdown",
   "id": "657f4d87",
   "metadata": {},
   "source": [
    "# 単語内の文字数をカウントしよう\n",
    "## 仕様\n",
    "- 最初に英単語を格納するための空のリストを作成してください\n",
    "- 次に、以下のように、キーがアルファベット小文字の各文字で、値が0の辞書を作成してください：\n",
    "  - `'a':0, 'b':0, 'c':0, 'd':0, 'e':0, 'f':0, 'g':0, 'h':0, 'i':0, 'j':0, 'k':0, 'l':0, 'm':0, 'n':0, 'o':0, 'p':0, 'q':0, 'r':0, 's':0, 't':0, 'u':0, 'v':0, 'w':0, 'x':0, 'y':0, 'z':0`\n",
    "- そのあと、キーボードから英単語の入力を受けつけます：\n",
    "  - 未入力でリターン（エンター）キーを押されるまで、英単語の入力の受け付けを繰り返してください\n",
    "  - 入力された英単語を構成する文字を1文字ずつ確認して、登場した数を加算してください\n",
    "  - 入力された英単語は都度リストに格納してください\n",
    "- 最後に以下の内容を一覧表示してください：\n",
    "  - 入力された英単語のリストを一覧表示してください\n",
    "    - その際、ABC順に並べ替えてから表示するようにしてください\n",
    "  - 辞書を使って加算した値のうち、1文字以上あったすべての文字について「○が△個ありました」を表示してください\n",
    "\n",
    "## 出力結果の例\n",
    "\n",
    "```\n",
    "英単語を入力してください：dog\n",
    "英単語を入力してください：cat\n",
    "英単語を入力してください：giraffe\n",
    "英単語を入力してください：kangaroo\n",
    "英単語を入力してください：horse\n",
    "英単語を入力してください：bear\n",
    "英単語を入力してください：\n",
    "入力した英単語：['bear', 'cat', 'dog', 'giraffe', 'horse', 'kangaroo']\n",
    "aが5個ありました\n",
    "bが1個ありました\n",
    "cが1個ありました\n",
    "dが1個ありました\n",
    "eが3個ありました\n",
    "fが2個ありました\n",
    "gが3個ありました\n",
    "hが1個ありました\n",
    "iが1個ありました\n",
    "kが1個ありました\n",
    "nが1個ありました\n",
    "oが4個ありました\n",
    "rが4個ありました\n",
    "sが1個ありました\n",
    "tが1個ありました\n",
    "```"
   ]
  },
  {
   "cell_type": "code",
   "execution_count": null,
   "id": "e26bba97",
   "metadata": {},
   "outputs": [
    {
     "name": "stdout",
     "output_type": "stream",
     "text": [
      "入力した英単語：['bear', 'cat', 'dog', 'giraffe', 'horse', 'kangaroo']\n",
      "aが5個ありました\n",
      "bが1個ありました\n",
      "cが1個ありました\n",
      "dが1個ありました\n",
      "eが3個ありました\n",
      "fが2個ありました\n",
      "gが3個ありました\n",
      "hが1個ありました\n",
      "iが1個ありました\n",
      "kが1個ありました\n",
      "nが1個ありました\n",
      "oが4個ありました\n",
      "rが4個ありました\n",
      "sが1個ありました\n",
      "tが1個ありました\n"
     ]
    }
   ],
   "source": [
    "words = []\n",
    "alphabets = {chr(i): 0 for i in range(ord('a'), ord('z') + 1)}\n",
    "\n",
    "while True:\n",
    "  word = input(\"英単語を入力してください：\")\n",
    "  \n",
    "  if not word:\n",
    "    break\n",
    "\n",
    "  for char in word:\n",
    "    alphabets[char] += 1\n",
    "\n",
    "  words.append(word)\n",
    "\n",
    "print(f\"入力した英単語：{sorted(words)}\")\n",
    "\n",
    "for alphabet, count in alphabets.items():\n",
    "  if count:\n",
    "    print(f\"{alphabet}が{count}個ありました\")"
   ]
  }
 ],
 "metadata": {
  "kernelspec": {
   "display_name": ".venv",
   "language": "python",
   "name": "python3"
  },
  "language_info": {
   "codemirror_mode": {
    "name": "ipython",
    "version": 3
   },
   "file_extension": ".py",
   "mimetype": "text/x-python",
   "name": "python",
   "nbconvert_exporter": "python",
   "pygments_lexer": "ipython3",
   "version": "3.12.10"
  }
 },
 "nbformat": 4,
 "nbformat_minor": 5
}
