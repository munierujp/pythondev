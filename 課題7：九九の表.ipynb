{
 "cells": [
  {
   "cell_type": "markdown",
   "id": "fcabb5d0",
   "metadata": {},
   "source": [
    "# 掛け算の九九の表を作ろう\n",
    "## 仕様\n",
    "この課題は「2次元リストを作成して、そのリストから値を取り出して表示する」という2次元リストの理解を確認する内容となります。\n",
    "\n",
    "以下の仕様に沿って、2つのコードセルの追記・修正をしてください。\n",
    "\n",
    "- `#@title 九九のリストを作成する` と書かれた行の下からコードを追加してください：\n",
    "  - 九九の数値が格納された2次元リストを作成してください。その際、リストの内包表記か二重ループを使って作成してください。**直書きによる 9x9 の2次元リストの作成は不合格とします。**\n",
    "- `#@title 九九の表を表示する` と書かれた行の下にある二重の `for` 文を修正してください：\n",
    "  - 上記で作成した2次元リストから数値を参照して、九九を表示してください\n",
    "  - その際、前述の実行結果の表示と同じレイアウトにしてください"
   ]
  },
  {
   "cell_type": "code",
   "execution_count": 31,
   "id": "2f80017f",
   "metadata": {},
   "outputs": [],
   "source": [
    "#@title 九九のリストを作成する\n",
    "table = [[x * y for x in range(1, 10)] for y in range(1, 10)]"
   ]
  },
  {
   "cell_type": "code",
   "execution_count": 32,
   "id": "3f5ddfda",
   "metadata": {},
   "outputs": [
    {
     "name": "stdout",
     "output_type": "stream",
     "text": [
      "  1  2  3  4  5  6  7  8  9\n",
      "  2  4  6  8 10 12 14 16 18\n",
      "  3  6  9 12 15 18 21 24 27\n",
      "  4  8 12 16 20 24 28 32 36\n",
      "  5 10 15 20 25 30 35 40 45\n",
      "  6 12 18 24 30 36 42 48 54\n",
      "  7 14 21 28 35 42 49 56 63\n",
      "  8 16 24 32 40 48 56 64 72\n",
      "  9 18 27 36 45 54 63 72 81\n"
     ]
    }
   ],
   "source": [
    "#@title 九九の表を表示する\n",
    "# 「1行ずつ表示」のような要件がないので一気に全体を作成\n",
    "table_str = \"\\n\".join(\"\".join(f\"{cell:3d}\" for cell in row) for row in table)\n",
    "print(table_str)"
   ]
  },
  {
   "cell_type": "markdown",
   "id": "5db62b6f",
   "metadata": {},
   "source": [
    "## テスト"
   ]
  },
  {
   "cell_type": "code",
   "execution_count": 33,
   "id": "f314c252",
   "metadata": {},
   "outputs": [],
   "source": [
    "expected = \"\"\"\n",
    "  1  2  3  4  5  6  7  8  9\n",
    "  2  4  6  8 10 12 14 16 18\n",
    "  3  6  9 12 15 18 21 24 27\n",
    "  4  8 12 16 20 24 28 32 36\n",
    "  5 10 15 20 25 30 35 40 45\n",
    "  6 12 18 24 30 36 42 48 54\n",
    "  7 14 21 28 35 42 49 56 63\n",
    "  8 16 24 32 40 48 56 64 72\n",
    "  9 18 27 36 45 54 63 72 81\n",
    "\"\"\".strip(\"\\n\")\n",
    "assert table_str == expected"
   ]
  }
 ],
 "metadata": {
  "kernelspec": {
   "display_name": ".venv",
   "language": "python",
   "name": "python3"
  },
  "language_info": {
   "codemirror_mode": {
    "name": "ipython",
    "version": 3
   },
   "file_extension": ".py",
   "mimetype": "text/x-python",
   "name": "python",
   "nbconvert_exporter": "python",
   "pygments_lexer": "ipython3",
   "version": "3.12.10"
  }
 },
 "nbformat": 4,
 "nbformat_minor": 5
}
