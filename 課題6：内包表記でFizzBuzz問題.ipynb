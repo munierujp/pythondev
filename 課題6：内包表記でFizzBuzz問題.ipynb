{
 "cells": [
  {
   "cell_type": "markdown",
   "id": "182bfe9e",
   "metadata": {},
   "source": [
    "# FizzBuzz問題をリストの内包表記で実装しよう\n",
    "\n",
    "## 仕様\n",
    "- 空の状態でリストを作成します\n",
    "- 1から100までの連続する整数について繰り返し処理を行ないます：\n",
    "  - 以下の条件にしたがい、適切な文字列をリストに追加します：\n",
    "    - 3で割り切れる数のときは \"Fizz\"\n",
    "    - 5で割り切れる数のときは \"Buzz\"\n",
    "    - 3で割り切れて、なおかつ5で割り切れる数のときは \"FizzBuzz\"\n",
    "    - それ以外の数値の場合は、その数値を文字列に変換したデータ\n",
    "- 最後に print() でリストの中身を全件表示してください\n",
    "\n",
    "## 出力結果\n",
    "\n",
    "```\n",
    "['1', '2', 'Fizz', '4', 'Buzz', 'Fizz', '7', '8', 'Fizz', 'Buzz', '11', 'Fizz', '13', '14', 'FizzBuzz', '16', '17', 'Fizz', '19', 'Buzz', 'Fizz', '22', '23', 'Fizz', 'Buzz', '26', 'Fizz', '28', '29', 'FizzBuzz', '31', '32', 'Fizz', '34', 'Buzz', 'Fizz', '37', '38', 'Fizz', 'Buzz', '41', 'Fizz', '43', '44', 'FizzBuzz', '46', '47', 'Fizz', '49', 'Buzz', 'Fizz', '52', '53', 'Fizz', 'Buzz', '56', 'Fizz', '58', '59', 'FizzBuzz', '61', '62', 'Fizz', '64', 'Buzz', 'Fizz', '67', '68', 'Fizz', 'Buzz', '71', 'Fizz', '73', '74', 'FizzBuzz', '76', '77', 'Fizz', '79', 'Buzz', 'Fizz', '82', '83', 'Fizz', 'Buzz', '86', 'Fizz', '88', '89', 'FizzBuzz', '91', '92', 'Fizz', '94', 'Buzz', 'Fizz', '97', '98', 'Fizz', 'Buzz']\n",
    "```\n"
   ]
  },
  {
   "cell_type": "code",
   "execution_count": 19,
   "id": "681106e2",
   "metadata": {},
   "outputs": [
    {
     "name": "stdout",
     "output_type": "stream",
     "text": [
      "['1', '2', 'Fizz', '4', 'Buzz', 'Fizz', '7', '8', 'Fizz', 'Buzz', '11', 'Fizz', '13', '14', 'FizzBuzz', '16', '17', 'Fizz', '19', 'Buzz', 'Fizz', '22', '23', 'Fizz', 'Buzz', '26', 'Fizz', '28', '29', 'FizzBuzz', '31', '32', 'Fizz', '34', 'Buzz', 'Fizz', '37', '38', 'Fizz', 'Buzz', '41', 'Fizz', '43', '44', 'FizzBuzz', '46', '47', 'Fizz', '49', 'Buzz', 'Fizz', '52', '53', 'Fizz', 'Buzz', '56', 'Fizz', '58', '59', 'FizzBuzz', '61', '62', 'Fizz', '64', 'Buzz', 'Fizz', '67', '68', 'Fizz', 'Buzz', '71', 'Fizz', '73', '74', 'FizzBuzz', '76', '77', 'Fizz', '79', 'Buzz', 'Fizz', '82', '83', 'Fizz', 'Buzz', '86', 'Fizz', '88', '89', 'FizzBuzz', '91', '92', 'Fizz', '94', 'Buzz', 'Fizz', '97', '98', 'Fizz', 'Buzz']\n"
     ]
    }
   ],
   "source": [
    "def fizzbuzz(num: int) -> str:\n",
    "  if num % 3 == 0 and num % 5 == 0:\n",
    "    return \"FizzBuzz\"\n",
    "  elif num % 3 == 0:\n",
    "    return \"Fizz\"\n",
    "  elif num % 5 == 0:\n",
    "    return \"Buzz\"\n",
    "  else:\n",
    "    return str(num)\n",
    "\n",
    "# 空の状態でリストを作成（いらないと思うが仕様にあるので）\n",
    "list = []\n",
    "\n",
    "# 1から100までの連続する整数について繰り返し処理\n",
    "list = [fizzbuzz(i) for i in range(1, 101)]\n",
    "\n",
    "# 最後に print() でリストの中身を全件表示\n",
    "print(list)"
   ]
  },
  {
   "cell_type": "markdown",
   "id": "b2cac3a3",
   "metadata": {},
   "source": [
    "## テスト"
   ]
  },
  {
   "cell_type": "code",
   "execution_count": 20,
   "id": "beadbc16",
   "metadata": {},
   "outputs": [],
   "source": [
    "expected = ['1', '2', 'Fizz', '4', 'Buzz', 'Fizz', '7', '8', 'Fizz', 'Buzz', '11', 'Fizz', '13', '14', 'FizzBuzz', '16', '17', 'Fizz', '19', 'Buzz', 'Fizz', '22', '23', 'Fizz', 'Buzz', '26', 'Fizz', '28', '29', 'FizzBuzz', '31', '32', 'Fizz', '34', 'Buzz', 'Fizz', '37', '38', 'Fizz', 'Buzz', '41', 'Fizz', '43', '44', 'FizzBuzz', '46', '47', 'Fizz', '49', 'Buzz', 'Fizz', '52', '53', 'Fizz', 'Buzz', '56', 'Fizz', '58', '59', 'FizzBuzz', '61', '62', 'Fizz', '64', 'Buzz', 'Fizz', '67', '68', 'Fizz', 'Buzz', '71', 'Fizz', '73', '74', 'FizzBuzz', '76', '77', 'Fizz', '79', 'Buzz', 'Fizz', '82', '83', 'Fizz', 'Buzz', '86', 'Fizz', '88', '89', 'FizzBuzz', '91', '92', 'Fizz', '94', 'Buzz', 'Fizz', '97', '98', 'Fizz', 'Buzz']\n",
    "assert list == expected"
   ]
  }
 ],
 "metadata": {
  "kernelspec": {
   "display_name": ".venv",
   "language": "python",
   "name": "python3"
  },
  "language_info": {
   "codemirror_mode": {
    "name": "ipython",
    "version": 3
   },
   "file_extension": ".py",
   "mimetype": "text/x-python",
   "name": "python",
   "nbconvert_exporter": "python",
   "pygments_lexer": "ipython3",
   "version": "3.12.10"
  }
 },
 "nbformat": 4,
 "nbformat_minor": 5
}
