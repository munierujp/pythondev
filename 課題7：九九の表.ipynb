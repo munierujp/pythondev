{
 "cells": [
  {
   "cell_type": "markdown",
   "id": "fcabb5d0",
   "metadata": {},
   "source": [
    "# 掛け算の九九の表を作ろう\n",
    "## 仕様\n",
    "この課題は「2次元リストを作成して、そのリストから値を取り出して表示する」という2次元リストの理解を確認する内容となります。\n",
    "\n",
    "以下の仕様に沿って、2つのコードセルの追記・修正をしてください。\n",
    "\n",
    "- #@title 九九のリストを作成する と書かれた行の下からコードを追加してください：\n",
    "  - 九九の数値が格納された2次元リストを作成してください。その際、リストの内包表記か二重ループを使って作成してください。直書きによる 9x9 の2次元リストの作成は不合格とします。\n",
    "- #@title 九九の表を表示する と書かれた行の下にある二重の for 文を修正してください：\n",
    "  - 上記で作成した2次元リストから数値を参照して、九九を表示してください\n",
    "  - その際、前述の実行結果の表示と同じレイアウトにしてください"
   ]
  },
  {
   "cell_type": "code",
   "execution_count": 26,
   "id": "2f80017f",
   "metadata": {},
   "outputs": [],
   "source": [
    "#@title 九九のリストを作成する\n",
    "table = [[x * y for x in range(1, 10)] for y in range(1, 10)]"
   ]
  },
  {
   "cell_type": "code",
   "execution_count": null,
   "id": "3f5ddfda",
   "metadata": {},
   "outputs": [
    {
     "name": "stdout",
     "output_type": "stream",
     "text": [
      "  1  2  3  4  5  6  7  8  9\n",
      "  2  4  6  8 10 12 14 16 18\n",
      "  3  6  9 12 15 18 21 24 27\n",
      "  4  8 12 16 20 24 28 32 36\n",
      "  5 10 15 20 25 30 35 40 45\n",
      "  6 12 18 24 30 36 42 48 54\n",
      "  7 14 21 28 35 42 49 56 63\n",
      "  8 16 24 32 40 48 56 64 72\n",
      "  9 18 27 36 45 54 63 72 81\n"
     ]
    }
   ],
   "source": [
    "#@title 九九の表を表示する\n",
    "# 「1行ずつ表示」のような要件がないので一気に全体を作成\n",
    "table_str = \"\\n\".join(\"\".join(f\"{cell:3d}\" for cell in row) for row in table)\n",
    "print(table_str)"
   ]
  },
  {
   "cell_type": "markdown",
   "id": "5db62b6f",
   "metadata": {},
   "source": [
    "## テスト"
   ]
  },
  {
   "cell_type": "code",
   "execution_count": null,
   "id": "f314c252",
   "metadata": {},
   "outputs": [
    {
     "ename": "AssertionError",
     "evalue": "",
     "output_type": "error",
     "traceback": [
      "\u001b[31m---------------------------------------------------------------------------\u001b[39m",
      "\u001b[31mAssertionError\u001b[39m                            Traceback (most recent call last)",
      "\u001b[36mCell\u001b[39m\u001b[36m \u001b[39m\u001b[32mIn[29]\u001b[39m\u001b[32m, line 13\u001b[39m\n\u001b[32m      1\u001b[39m expected = \u001b[33m\"\"\"\u001b[39m\n\u001b[32m      2\u001b[39m \u001b[33m  1  2  3  4  5  6  7  8  9\u001b[39m\n\u001b[32m      3\u001b[39m \u001b[33m  2  4  6  8 10 12 14 16 18\u001b[39m\n\u001b[32m   (...)\u001b[39m\u001b[32m     11\u001b[39m \u001b[33m  9 18 27 36 45 54 63 72 81\u001b[39m\n\u001b[32m     12\u001b[39m \u001b[33m\"\"\"\u001b[39m.strip(\u001b[33m\"\u001b[39m\u001b[38;5;130;01m\\n\u001b[39;00m\u001b[33m\"\u001b[39m)\n\u001b[32m---> \u001b[39m\u001b[32m13\u001b[39m \u001b[38;5;28;01massert\u001b[39;00m table_str == expected\n",
      "\u001b[31mAssertionError\u001b[39m: "
     ]
    }
   ],
   "source": [
    "expected = \"\"\"\n",
    "  1  2  3  4  5  6  7  8  9\n",
    "  2  4  6  8 10 12 14 16 18\n",
    "  3  6  9 12 15 18 21 24 27\n",
    "  4  8 12 16 20 24 28 32 36\n",
    "  5 10 15 20 25 30 35 40 45\n",
    "  6 12 18 24 30 36 42 48 54\n",
    "  7 14 21 28 35 42 49 56 63\n",
    "  8 16 24 32 40 48 56 64 72\n",
    "  9 18 27 36 45 54 63 72 81\n",
    "\"\"\".strip(\"\\n\")\n",
    "assert table_str == expected"
   ]
  }
 ],
 "metadata": {
  "kernelspec": {
   "display_name": ".venv",
   "language": "python",
   "name": "python3"
  },
  "language_info": {
   "codemirror_mode": {
    "name": "ipython",
    "version": 3
   },
   "file_extension": ".py",
   "mimetype": "text/x-python",
   "name": "python",
   "nbconvert_exporter": "python",
   "pygments_lexer": "ipython3",
   "version": "3.12.10"
  }
 },
 "nbformat": 4,
 "nbformat_minor": 5
}
