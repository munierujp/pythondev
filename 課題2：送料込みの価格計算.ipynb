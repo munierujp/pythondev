{
 "cells": [
  {
   "cell_type": "markdown",
   "id": "17825552",
   "metadata": {},
   "source": [
    "# 送料込みの価格を計算しよう\n",
    "## 仕様\n",
    "- 「税抜価格を入力してください：」と表示し、キーボードから税抜価格の入力を受け付けます\n",
    "- 税抜価格が入力されたら、税込価格を計算します。小数点以下を四捨五入します\n",
    "  - なお、税額の計算は、簡略化のため、税抜価格に一律で10%をかけるものとします\n",
    "- 計算された税込価格によって処理を分けます：\n",
    "  - 税込価格が2000円以上の場合：\n",
    "    - 「送料は無料です」と表示します\n",
    "  - 税込価格が2000円未満の場合：\n",
    "    - 「送料として350円かかります」と表示し、送料350円を税込価格にプラスします（送料350円は税込価格として考えてください）\n",
    "  - 「送料込みの価格は○○○円です。」というように、画面に送料込みの価格を画面に表示します\n",
    "\n",
    "## 実行結果の例：\n",
    "2000を入力した場合\n",
    "\n",
    "```\n",
    "税抜価格を入力してください：2000\n",
    "送料は無料です\n",
    "送料込みの価格は2200円です。\n",
    "```\n",
    "\n",
    "1800を入力した場合\n",
    "\n",
    "```\n",
    "税抜価格を入力してください：1800\n",
    "送料として350円かかります\n",
    "送料込みの価格は2330円です。\n",
    "```\n"
   ]
  },
  {
   "cell_type": "code",
   "execution_count": 7,
   "id": "36628403",
   "metadata": {},
   "outputs": [
    {
     "name": "stdout",
     "output_type": "stream",
     "text": [
      "送料として350円かかります\n",
      "送料込みの価格は2330円です。\n"
     ]
    }
   ],
   "source": [
    "# 税率\n",
    "TAX_RATE = 0.1\n",
    "\n",
    "price = int(input(\"税抜価格を入力してください：\"))\n",
    "tax_included_price = round(int(price * (1 + TAX_RATE)))\n",
    "postage = 350\n",
    "\n",
    "if tax_included_price >= 2000:\n",
    "    print(\"送料は無料です\")\n",
    "    postage = 0\n",
    "else:\n",
    "    print(\"送料として350円かかります\")\n",
    "\n",
    "total_price = tax_included_price + postage\n",
    "print(f\"送料込みの価格は{total_price}円です。\")\n"
   ]
  }
 ],
 "metadata": {
  "kernelspec": {
   "display_name": ".venv",
   "language": "python",
   "name": "python3"
  },
  "language_info": {
   "codemirror_mode": {
    "name": "ipython",
    "version": 3
   },
   "file_extension": ".py",
   "mimetype": "text/x-python",
   "name": "python",
   "nbconvert_exporter": "python",
   "pygments_lexer": "ipython3",
   "version": "3.12.10"
  }
 },
 "nbformat": 4,
 "nbformat_minor": 5
}
