{
 "cells": [
  {
   "cell_type": "markdown",
   "id": "e5312a3d",
   "metadata": {},
   "source": [
    "# 再帰的な関数を利用してフィボナッチ数列を実装しよう\n",
    "## 仕様\n",
    "- `prognum.py` ファイルに「フィボナッチ数列を計算する関数」を定義します。関数名および引数の名前は自由とします。処理内容は以下のとおりです：\n",
    "  - 1番目の数値は1\n",
    "  - 2番目の数値は1\n",
    "  - 3番目以降の数値は、直前の2つの数値の和（以下は例：）\n",
    "    - 3番目： `1 + 1 = 2`\n",
    "    - 4番目： `1 + 2 = 3`\n",
    "    - 5番目： `2 + 3 = 5`\n",
    "    - 6番目： `3 + 5 = 8`\n",
    "    - …（以下略）…\n",
    "  - 3番目以降の数値に関する部分で、その関数自身を指定して `return` することで、再帰的な関数になります。この関数を再帰的な形にしてください。無限ループに注意しましょう！\n",
    "- `課題9：再帰的な関数でのフィボナッチ数列.ipynb` で `prognum.py` をインポートしてください\n",
    "- 「何番目の数値を求めたいか」をキーボードから入力できるようにしてください。（数値が入力される前提でかまいませんので、例外処理は不要です）\n",
    "- フィボナッチ数列を計算する関数を実行する命令を記述してください。キーボードから入力した数値を引数に指定しましょう\n",
    "- 計算結果の数値を画面に出力してください\n",
    "\n",
    "## 出力結果の例\n",
    "8を入力した場合：\n",
    "\n",
    "```\n",
    "何番目の数値を求めますか？：8\n",
    "21\n",
    "```\n",
    "\n",
    "9を入力した場合：\n",
    "\n",
    "```\n",
    "何番目の数値を求めますか？：9\n",
    "34\n",
    "```\n",
    "\n",
    "10を入力した場合：\n",
    "\n",
    "```\n",
    "何番目の数値を求めますか？：10\n",
    "55\n",
    "```"
   ]
  },
  {
   "cell_type": "code",
   "execution_count": 14,
   "id": "78e88f32",
   "metadata": {},
   "outputs": [
    {
     "name": "stdout",
     "output_type": "stream",
     "text": [
      "55\n"
     ]
    }
   ],
   "source": [
    "from prognum import fibonacci\n",
    "\n",
    "n = int(input(\"何番目の数値を求めますか？：\"))\n",
    "print(fibonacci(n))"
   ]
  },
  {
   "cell_type": "markdown",
   "id": "b2d0d61e",
   "metadata": {},
   "source": [
    "## テスト"
   ]
  },
  {
   "cell_type": "code",
   "execution_count": null,
   "id": "bf575738",
   "metadata": {},
   "outputs": [
    {
     "name": "stdout",
     "output_type": "stream",
     "text": [
      "1\n"
     ]
    }
   ],
   "source": [
    "from prognum import fibonacci\n",
    "\n",
    "assert fibonacci(1) == 1\n",
    "assert fibonacci(2) == 1\n",
    "assert fibonacci(3) == 2\n",
    "assert fibonacci(4) == 3\n",
    "assert fibonacci(5) == 5\n",
    "assert fibonacci(6) == 8\n",
    "assert fibonacci(8) == 21\n",
    "assert fibonacci(9) == 34\n",
    "assert fibonacci(10) == 55\n"
   ]
  }
 ],
 "metadata": {
  "kernelspec": {
   "display_name": ".venv",
   "language": "python",
   "name": "python3"
  },
  "language_info": {
   "codemirror_mode": {
    "name": "ipython",
    "version": 3
   },
   "file_extension": ".py",
   "mimetype": "text/x-python",
   "name": "python",
   "nbconvert_exporter": "python",
   "pygments_lexer": "ipython3",
   "version": "3.12.10"
  }
 },
 "nbformat": 4,
 "nbformat_minor": 5
}
