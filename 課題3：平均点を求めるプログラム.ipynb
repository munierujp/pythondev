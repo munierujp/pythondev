{
 "cells": [
  {
   "cell_type": "markdown",
   "id": "c8dd797b",
   "metadata": {},
   "source": [
    "# 平均点を求めるプログラムを作成しよう\n",
    "## 仕様\n",
    "- 無限ループを作成します\n",
    "- そのなかで「点数を入力してください：」と表示して、テストの点数（整数値）を入力します。なお、入力した点数はあとで使用しますので、変数に格納してください。さらに、入力した点数の件数 人数 をカウンタ変数を用意して数えてください\n",
    "- 平均点は「点数の合計値 / 人数」で求めます。点数の合計値 は、繰り返しのたびに入力した点数を合計値用の変数に加算して求めてください\n",
    "- -1 と入力されたら、そこで繰り返し処理を終了します\n",
    "- 最後に「○○人のテストの平均点は△△点です」と表示してください。平均点は小数第2位を四捨五入し、出力の際に小数第1位までを表示するようにします\n",
    "\n",
    "## 実行結果の例\n",
    "例1：\n",
    "\n",
    "```\n",
    "点数を入力してください：60\n",
    "点数を入力してください：70\n",
    "点数を入力してください：80\n",
    "点数を入力してください：90\n",
    "点数を入力してください：100\n",
    "点数を入力してください：-1\n",
    "5人のテストの平均点は80.0点です\n",
    "```\n",
    "\n",
    "例2\n",
    "```\n",
    "点数を入力してください：65\n",
    "点数を入力してください：42\n",
    "点数を入力してください：87\n",
    "点数を入力してください：99\n",
    "点数を入力してください：48\n",
    "点数を入力してください：73\n",
    "点数を入力してください：100\n",
    "点数を入力してください：61\n",
    "点数を入力してください：89\n",
    "点数を入力してください：70\n",
    "点数を入力してください：-1\n",
    "10人のテストの平均点は73.4点です\n",
    "```"
   ]
  },
  {
   "cell_type": "code",
   "execution_count": 20,
   "id": "cbff69cf",
   "metadata": {},
   "outputs": [
    {
     "name": "stdout",
     "output_type": "stream",
     "text": [
      "10人のテストの平均点は73.4点です\n"
     ]
    }
   ],
   "source": [
    "people = 0\n",
    "total_score = 0\n",
    "\n",
    "while True:\n",
    "  score = int(input(\"点数を入力してください：\"))\n",
    "\n",
    "  if score == -1:\n",
    "    break\n",
    "  \n",
    "  people += 1\n",
    "  total_score += score\n",
    "\n",
    "average = total_score / people\n",
    "print(f\"{people}人のテストの平均点は{average:.1f}点です\")"
   ]
  }
 ],
 "metadata": {
  "kernelspec": {
   "display_name": ".venv",
   "language": "python",
   "name": "python3"
  },
  "language_info": {
   "codemirror_mode": {
    "name": "ipython",
    "version": 3
   },
   "file_extension": ".py",
   "mimetype": "text/x-python",
   "name": "python",
   "nbconvert_exporter": "python",
   "pygments_lexer": "ipython3",
   "version": "3.12.10"
  }
 },
 "nbformat": 4,
 "nbformat_minor": 5
}
